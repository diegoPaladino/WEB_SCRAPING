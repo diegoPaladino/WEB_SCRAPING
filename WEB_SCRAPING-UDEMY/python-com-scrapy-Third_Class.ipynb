{
 "cells": [
  {
   "cell_type": "code",
   "execution_count": 14,
   "metadata": {},
   "outputs": [
    {
     "name": "stdout",
     "output_type": "stream",
     "text": [
      "Digite um número: 1\n"
     ]
    }
   ],
   "source": [
    "chute = input('Digite um número: ')"
   ]
  },
  {
   "cell_type": "code",
   "execution_count": 15,
   "metadata": {},
   "outputs": [],
   "source": [
    "chute = int(chute)\n",
    "numero = 10"
   ]
  },
  {
   "cell_type": "code",
   "execution_count": 16,
   "metadata": {},
   "outputs": [
    {
     "name": "stdout",
     "output_type": "stream",
     "text": [
      "Você errou! O valor é maior\n"
     ]
    }
   ],
   "source": [
    "if numero == chute:\n",
    "    print('Você acertou!!')\n",
    "else:\n",
    "    diferenca = numero - chute\n",
    "    if diferenca > 0:\n",
    "        print('Você errou! O valor é maior')\n",
    "    else:\n",
    "        print('Você errou! O valor é menor')\n",
    "    "
   ]
  },
  {
   "cell_type": "code",
   "execution_count": 17,
   "metadata": {},
   "outputs": [
    {
     "name": "stdout",
     "output_type": "stream",
     "text": [
      "Voce errou, o valor é maior\n"
     ]
    }
   ],
   "source": [
    "diferenca = numero - chute\n",
    "if diferenca == 0:\n",
    "    print('Você acertou!')\n",
    "elif diferenca > 0:\n",
    "    print('Voce errou, o valor é maior')\n",
    "else:\n",
    "    print('Voce errou, o valor é menor')"
   ]
  },
  {
   "cell_type": "code",
   "execution_count": null,
   "metadata": {},
   "outputs": [],
   "source": []
  }
 ],
 "metadata": {
  "kernelspec": {
   "display_name": "Python 3",
   "language": "python",
   "name": "python3"
  },
  "language_info": {
   "codemirror_mode": {
    "name": "ipython",
    "version": 3
   },
   "file_extension": ".py",
   "mimetype": "text/x-python",
   "name": "python",
   "nbconvert_exporter": "python",
   "pygments_lexer": "ipython3",
   "version": "3.8.3"
  }
 },
 "nbformat": 4,
 "nbformat_minor": 4
}
